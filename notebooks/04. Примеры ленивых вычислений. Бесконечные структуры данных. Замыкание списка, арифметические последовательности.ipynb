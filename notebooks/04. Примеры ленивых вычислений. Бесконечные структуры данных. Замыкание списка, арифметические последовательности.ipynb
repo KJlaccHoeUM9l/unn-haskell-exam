{
 "cells": [
  {
   "cell_type": "markdown",
   "metadata": {},
   "source": [
    "# 4. Примеры ленивых вычислений. Бесконечные структуры данных. Замыкание списка, арифметические последовательности."
   ]
  },
  {
   "cell_type": "markdown",
   "metadata": {},
   "source": [
    "## 4.1. Примеры ленивых вычислений.\n",
    "\n",
    "Идея  ленивости: никакое выражение не будет вычисляться, пока его результат не понадобится. \n",
    "\n",
    "Часто бывает так, что уже частично раскрытого выражения достаточно для того, чтобы функция могла вернуть результат  -  в \n",
    "таком случае, выражение так и не будет вычислено до конца.\n",
    "\n",
    "Ниже приведены примеры, в которых намеренно передаются некорректные аргументы, но из-за \"ленивости\" они не успевают вычисляться."
   ]
  },
  {
   "cell_type": "code",
   "execution_count": 1,
   "metadata": {},
   "outputs": [],
   "source": [
    "const :: a -> b -> a\n",
    "const x _ = x"
   ]
  },
  {
   "cell_type": "code",
   "execution_count": 2,
   "metadata": {},
   "outputs": [
    {
     "data": {
      "text/plain": [
       "\"hello\""
      ]
     },
     "metadata": {},
     "output_type": "display_data"
    }
   ],
   "source": [
    "const \"hello\" (0/0)"
   ]
  },
  {
   "cell_type": "code",
   "execution_count": 3,
   "metadata": {},
   "outputs": [
    {
     "data": {
      "text/plain": [
       "[1.0,2.0,3.0,4.0,5.0]"
      ]
     },
     "metadata": {},
     "output_type": "display_data"
    }
   ],
   "source": [
    "take 5 [1, 2, 3, 4, 5, 0/0, 1/0, 2/0, undefined]"
   ]
  },
  {
   "cell_type": "markdown",
   "metadata": {},
   "source": [
    "## 4.2. Бесконечные структуры данных.\n",
    "\n",
    "Ленивые вычисления обладают мощной  возможностью:  они  позволяют  создавать  бесконечные  структуры  данных,  например, \n",
    "бесконечные списки. \n",
    "\n",
    "Выражение  `[1..]`  означает бесконечный список натуральных чисел, но благодаря ленивости с ним можно работать."
   ]
  },
  {
   "cell_type": "code",
   "execution_count": 4,
   "metadata": {},
   "outputs": [],
   "source": [
    "infiniteList = [1..]"
   ]
  },
  {
   "cell_type": "code",
   "execution_count": 5,
   "metadata": {},
   "outputs": [
    {
     "data": {
      "text/plain": [
       "[1,2,3,4,5,6,7,8,9,10,11,12,13,14,15,16,17]"
      ]
     },
     "metadata": {},
     "output_type": "display_data"
    }
   ],
   "source": [
    "take 17 infiniteList"
   ]
  },
  {
   "cell_type": "markdown",
   "metadata": {},
   "source": [
    "Реализация такого списка может быть следующей:"
   ]
  },
  {
   "cell_type": "code",
   "execution_count": 6,
   "metadata": {},
   "outputs": [],
   "source": [
    "naturals = naturalsFrom 1\n",
    "    where naturalsFrom n = n : naturalsFrom (n+1)"
   ]
  },
  {
   "cell_type": "code",
   "execution_count": 7,
   "metadata": {},
   "outputs": [
    {
     "data": {
      "text/plain": [
       "[1,2,3,4,5,6,7,8,9,10,11,12,13,14,15,16,17]"
      ]
     },
     "metadata": {},
     "output_type": "display_data"
    }
   ],
   "source": [
    "take 17 naturals"
   ]
  },
  {
   "cell_type": "markdown",
   "metadata": {},
   "source": [
    "Большая  часть  списочных  функций,  которые  были представлены в вопросе 1,  будет  работать  не  только  с обычными,  но  и  с  бесконечными  списками.  Но  некоторые,  разумеется,  не  будут.\n",
    "\n",
    "Что будет, если функции дать бесконечный список?\n",
    "* Вернет конечный результат. \n",
    "    * Пример: `take`\n",
    "* Вернет бесконечный список, с которым можно работать, если не вычислять его целиком.\n",
    "    * Пример: `drop 2 naturals`\n",
    "* Не остановится. \n",
    "    * Пример: `length naturals`"
   ]
  },
  {
   "cell_type": "code",
   "execution_count": 8,
   "metadata": {},
   "outputs": [
    {
     "data": {
      "text/plain": [
       "[3,4,5]"
      ]
     },
     "metadata": {},
     "output_type": "display_data"
    }
   ],
   "source": [
    "take 3 (drop 2 naturals)"
   ]
  },
  {
   "cell_type": "markdown",
   "metadata": {},
   "source": [
    "## 4.3. Замыкание списка, арифметические последовательности.\n",
    "\n",
    "### 4.3.1. Арифметические последовательности.\n",
    "\n"
   ]
  },
  {
   "cell_type": "code",
   "execution_count": 9,
   "metadata": {},
   "outputs": [
    {
     "data": {
      "text/plain": [
       "[1,2,3,4,5,6,7,8,9,10]"
      ]
     },
     "metadata": {},
     "output_type": "display_data"
    }
   ],
   "source": [
    "[1 .. 10]"
   ]
  },
  {
   "cell_type": "code",
   "execution_count": 10,
   "metadata": {},
   "outputs": [
    {
     "data": {
      "text/plain": [
       "[1,3,5,7,9]"
      ]
     },
     "metadata": {},
     "output_type": "display_data"
    }
   ],
   "source": [
    "[1, 3 .. 10]"
   ]
  },
  {
   "cell_type": "code",
   "execution_count": 11,
   "metadata": {},
   "outputs": [
    {
     "data": {
      "text/plain": [
       "[10,9,8,7,6,5,4,3,2,1]"
      ]
     },
     "metadata": {},
     "output_type": "display_data"
    }
   ],
   "source": [
    "[10, 9 .. 1]"
   ]
  },
  {
   "cell_type": "code",
   "execution_count": 12,
   "metadata": {},
   "outputs": [
    {
     "data": {
      "text/plain": [
       "[1,2,3,4,5,6]"
      ]
     },
     "metadata": {},
     "output_type": "display_data"
    }
   ],
   "source": [
    "take 6 [1..]"
   ]
  },
  {
   "cell_type": "code",
   "execution_count": 13,
   "metadata": {},
   "outputs": [
    {
     "data": {
      "text/plain": [
       "[0.0,3.5,7.0,10.5]"
      ]
     },
     "metadata": {},
     "output_type": "display_data"
    }
   ],
   "source": [
    "[0.0,3.5..10.0]"
   ]
  },
  {
   "cell_type": "code",
   "execution_count": 14,
   "metadata": {},
   "outputs": [
    {
     "data": {
      "text/plain": [
       "\"abcdef\""
      ]
     },
     "metadata": {},
     "output_type": "display_data"
    }
   ],
   "source": [
    "['a'..'f']"
   ]
  },
  {
   "cell_type": "markdown",
   "metadata": {},
   "source": [
    "### 4.3.2. Замыкание списка.\n",
    "\n",
    "Удобная особенность языка, связанная с генерацией и обработкой списков  –  это  замыкания (генераторы)  списков.\n",
    "\n",
    "В  общем случае, замыкание списков имеет вид:\n",
    "\n",
    "`[выражение | образец <- список, образец <- список, … , условие, условие, … ]`\n",
    "\n",
    "Замыкание создает список по следующей схеме: из каждого списка  берется по элементу, и если \n",
    "все условия выполняются, то из этих элементов выражение генерирует новый элемент выходного \n",
    "списка. "
   ]
  },
  {
   "cell_type": "code",
   "execution_count": 15,
   "metadata": {},
   "outputs": [
    {
     "data": {
      "text/plain": [
       "[1,4,9,16,25,36,49,64,81,100]"
      ]
     },
     "metadata": {},
     "output_type": "display_data"
    }
   ],
   "source": [
    "[x^2 | x <- [1..10]]"
   ]
  },
  {
   "cell_type": "code",
   "execution_count": 16,
   "metadata": {},
   "outputs": [
    {
     "data": {
      "text/plain": [
       "[(1,2),(1,3),(1,4),(2,3),(2,4),(3,4)]"
      ]
     },
     "metadata": {},
     "output_type": "display_data"
    }
   ],
   "source": [
    "[(x,y) | x <- [1..4], y <- [1..4], x < y]"
   ]
  },
  {
   "cell_type": "markdown",
   "metadata": {},
   "source": [
    "С помощью генераторов списков можно более изящно реализовывать некоторые последовательности, например, `числа Фибоначчи`.\n",
    "\n",
    "Возможным решением без использования генераторов списков является следующее:\n",
    "\n",
    "`fibs = 0 : 1 : zipWith (+) fibs (tail fibs)`\n",
    "\n",
    "Но при использовании генераторов оно записывается более наглядно:"
   ]
  },
  {
   "cell_type": "code",
   "execution_count": 17,
   "metadata": {},
   "outputs": [],
   "source": [
    "fibs = 0 : 1 : [x + y | (x, y) <- zip fibs (tail fibs)]"
   ]
  },
  {
   "cell_type": "code",
   "execution_count": 18,
   "metadata": {},
   "outputs": [
    {
     "data": {
      "text/plain": [
       "[0,1,1,2,3,5,8,13,21,34,55,89,144,233,377,610,987]"
      ]
     },
     "metadata": {},
     "output_type": "display_data"
    }
   ],
   "source": [
    "take 17 fibs"
   ]
  },
  {
   "cell_type": "code",
   "execution_count": null,
   "metadata": {},
   "outputs": [],
   "source": []
  }
 ],
 "metadata": {
  "kernelspec": {
   "display_name": "Haskell",
   "language": "haskell",
   "name": "haskell"
  },
  "language_info": {
   "codemirror_mode": "ihaskell",
   "file_extension": ".hs",
   "name": "haskell",
   "pygments_lexer": "Haskell",
   "version": "8.6.5"
  }
 },
 "nbformat": 4,
 "nbformat_minor": 4
}
