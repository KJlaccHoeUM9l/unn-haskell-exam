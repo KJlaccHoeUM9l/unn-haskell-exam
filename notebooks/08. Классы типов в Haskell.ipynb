{
 "cells": [
  {
   "cell_type": "markdown",
   "metadata": {},
   "source": [
    "   #     Классы типов в Haskell, включая Num, Eq, Show, Enum, Bounded и Monoid. Объявление принадлежности к классу для типа или конструктора типа. Использование newtype для многократного объявления принадлежности типа к классу"
   ]
  },
  {
   "cell_type": "markdown",
   "metadata": {},
   "source": [
    "В типизированном языке у каждой функции есть тип, но бывают функции, которые могут быть определены на аргументах разных типов. Например, оператор == принимает 2 аргумента одного типа а, и возвращает Bool"
   ]
  },
  {
   "cell_type": "markdown",
   "metadata": {},
   "source": [
    "a -> a -> Bool"
   ]
  },
  {
   "cell_type": "markdown",
   "metadata": {},
   "source": [
    "Тип a является любым типом, для которого сравнение на равенство имеет смысл. Классы типов позволяют определять функции применимые для данного класса.\n",
    "\n",
    "У классов типов есть имена. Также как и имена классов, они начинаются с большой буквы. Рассмотрим базовые классы в Haskell."
   ]
  },
  {
   "cell_type": "markdown",
   "metadata": {},
   "source": [
    "Класс Eq предоставляет интерфейс для проверки значений на равенство при помощи функций (==) и (/=):"
   ]
  },
  {
   "cell_type": "code",
   "execution_count": 2,
   "metadata": {},
   "outputs": [],
   "source": [
    "class Eq a where\n",
    "    (==) :: a -> a -> Bool\n",
    "    (/=) :: a -> a -> Bool\n"
   ]
  },
  {
   "cell_type": "markdown",
   "metadata": {},
   "source": [
    "Класс Show позволяет переводить значения в строки:"
   ]
  },
  {
   "cell_type": "code",
   "execution_count": 3,
   "metadata": {},
   "outputs": [],
   "source": [
    "class Show a where\n",
    "    show :: a -> String"
   ]
  },
  {
   "cell_type": "markdown",
   "metadata": {},
   "source": [
    "Класс Num представляет числа. Класс основные арифметические операции:"
   ]
  },
  {
   "cell_type": "code",
   "execution_count": 4,
   "metadata": {},
   "outputs": [],
   "source": [
    "class  (Eq a, Show a) => Num a  where\n",
    "    (+), (-), (*)    :: a -> a -> a\n",
    "    negate           :: a -> a\n",
    "    abs, signum      :: a -> a\n",
    "    fromInteger      :: Integer -> a"
   ]
  },
  {
   "cell_type": "markdown",
   "metadata": {},
   "source": [
    "Класс Enum используется для упорядоченных последовательностей. Типы этого класса можно использовать в интервалах, например: ['a'..'z']:"
   ]
  },
  {
   "cell_type": "code",
   "execution_count": 5,
   "metadata": {},
   "outputs": [],
   "source": [
    "class  Enum a  where\n",
    "    succ, pred       :: a -> a\n",
    "    toEnum           :: Int -> a\n",
    "    fromEnum         :: a -> Int\n",
    "    enumFrom         :: a -> [a]             -- [n..]\n",
    "    enumFromThen     :: a -> a -> [a]        -- [n,n'..]\n",
    "    enumFromTo       :: a -> a -> [a]        -- [n..m]\n",
    "    enumFromThenTo   :: a -> a -> a -> [a]   -- [n,n'..m]"
   ]
  },
  {
   "cell_type": "markdown",
   "metadata": {},
   "source": [
    "Класс Bounded используется для типов у которых есть минальное и максимальное допустимые значения. Например тип Int имеет максимальное и минимальное значения.\n",
    "Этот класс содержит два метода, которые обязательны для реализации: minBound и maxBound, возвращающие минимальное и максимальное значения соответственно:"
   ]
  },
  {
   "cell_type": "code",
   "execution_count": 6,
   "metadata": {},
   "outputs": [],
   "source": [
    "class  Bounded a  where\n",
    " minBound         :: a\n",
    " maxBound         :: a"
   ]
  },
  {
   "cell_type": "markdown",
   "metadata": {},
   "source": [
    "Класс Monoid. Функция mappend используется для комбинирования пар элементов, а mempty представляет собой нейтральный элемент:"
   ]
  },
  {
   "cell_type": "code",
   "execution_count": 7,
   "metadata": {},
   "outputs": [],
   "source": [
    "class Monoid m where\n",
    "    mappend :: m -> m -> m\n",
    "    mempty :: m"
   ]
  },
  {
   "cell_type": "markdown",
   "metadata": {},
   "source": [
    "При создании своего типа можно указать на принадлежность его к классам используя ключевое слово deriving, тем самым определив применимые функции."
   ]
  },
  {
   "cell_type": "code",
   "execution_count": null,
   "metadata": {},
   "outputs": [],
   "source": [
    "data Point = Pt {px :: Integer, py :: Integer} deriving (Eq, Show)"
   ]
  },
  {
   "cell_type": "markdown",
   "metadata": {},
   "source": [
    "где Pt - конструктор нашего нового типа.\n",
    "Вызвав его получим:"
   ]
  },
  {
   "cell_type": "code",
   "execution_count": null,
   "metadata": {},
   "outputs": [],
   "source": [
    "BestHaskellModuleInTheWorld> Pt 1 2\n",
    "Pt{px=1,py=2}"
   ]
  },
  {
   "cell_type": "markdown",
   "metadata": {},
   "source": [
    "Помимо data существует ещё одно ключевое слово, предназначенное для определения нового типа. Оно так и называется — newtype. Эти слова похожи друг на друга «в одну сторону»: вы можете поставить data на место newtype, но не наоборот. \n",
    "Тип, определяемый с помощью слова newtype, обязан иметь один и только один конструктор значения."
   ]
  },
  {
   "cell_type": "code",
   "execution_count": 10,
   "metadata": {},
   "outputs": [],
   "source": [
    "newtype Sum a = Sum a"
   ]
  },
  {
   "cell_type": "markdown",
   "metadata": {},
   "source": [
    "эквивалентно"
   ]
  },
  {
   "cell_type": "code",
   "execution_count": null,
   "metadata": {},
   "outputs": [],
   "source": [
    "data Sum a = Sum a"
   ]
  },
  {
   "cell_type": "markdown",
   "metadata": {},
   "source": [
    "Единственное отличие заключается в том, что в случае newtype вычислитель не видит разницы между Sum a и a. Её видит лишь компилятор. Это означает, что на разворачивание и заворачивание такого значения в тип обёртку не тратится никаких усилий. Такие типы подходят для решения двух задач: \n",
    "\n",
    "• Более точная проверка типов. \n",
    "\n",
    "• Определение нескольких экземпляров одного класса для одного типа. Этот случай мы как раз и рассматриваем для класса Monoid. Нам нужно сделать два экземпляра для одного и того же типа Num a=> a."
   ]
  },
  {
   "cell_type": "code",
   "execution_count": 12,
   "metadata": {},
   "outputs": [],
   "source": [
    "newtype Sum a = Sum a\n",
    "newtype Prod a = Prod a"
   ]
  },
  {
   "cell_type": "markdown",
   "metadata": {},
   "source": [
    "Тогда мы можем определить два экземпляра для двух разных типов:"
   ]
  },
  {
   "cell_type": "code",
   "execution_count": 13,
   "metadata": {},
   "outputs": [],
   "source": [
    "instance Num a => Monoid (Sum a) where\n",
    "mempty = Sum 0\n",
    "mappend (Sum a) (Sum b) = Sum (a + b)"
   ]
  },
  {
   "cell_type": "code",
   "execution_count": 14,
   "metadata": {},
   "outputs": [],
   "source": [
    "instance Num a => Monoid (Prod a) where\n",
    "mempty = Prod 1\n",
    "mappend (Prod a) (Prod b) = Prod (a * b)"
   ]
  }
 ],
 "metadata": {
  "kernelspec": {
   "display_name": "Haskell",
   "language": "haskell",
   "name": "haskell"
  },
  "language_info": {
   "codemirror_mode": "ihaskell",
   "file_extension": ".hs",
   "name": "haskell",
   "pygments_lexer": "Haskell",
   "version": "8.6.5"
  }
 },
 "nbformat": 4,
 "nbformat_minor": 4
}
