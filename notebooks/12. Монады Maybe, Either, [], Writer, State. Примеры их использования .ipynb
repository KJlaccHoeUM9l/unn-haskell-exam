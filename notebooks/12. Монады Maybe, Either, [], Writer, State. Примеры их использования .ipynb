{
 "cells": [
  {
   "cell_type": "markdown",
   "metadata": {},
   "source": [
    "# Монады Maybe, Either, [], Writer, State. Примеры их использования"
   ]
  },
  {
   "cell_type": "markdown",
   "metadata": {},
   "source": [
    "## Maybe"
   ]
  },
  {
   "cell_type": "markdown",
   "metadata": {},
   "source": [
    "Частично определённые функции – это такие функции, которые определены не для всех значений аргументов. Примером такой функции может быть функция поиска предыдущего числа для натуральных чисел.\n",
    "Поскольку числа натуральные, то для нуля такого числа нет. Для описания этого поведения мы можем воспользоваться специальным типом Maybe."
   ]
  },
  {
   "cell_type": "code",
   "execution_count": 1,
   "metadata": {},
   "outputs": [],
   "source": [
    "data Maybe a = Nothing | Just a\n",
    "    deriving (Show, Eq, Ord)"
   ]
  },
  {
   "cell_type": "markdown",
   "metadata": {},
   "source": [
    "Частично определённая функция имеет тип a -> Maybe b (рис. 6.2), если всё в порядке и значение было\n",
    "вычислено, она вернёт (Just a), а в случае ошибки будет возвращено значение Nothing. Теперь мы можем\n",
    "определить нашу функцию так:"
   ]
  },
  {
   "cell_type": "code",
   "execution_count": 19,
   "metadata": {},
   "outputs": [],
   "source": [
    "pred :: Nat -> Maybe Nat\n",
    "pred Zero = Nothing\n",
    "pred (Succ a) = Just a"
   ]
  },
  {
   "cell_type": "markdown",
   "metadata": {},
   "source": [
    "Для Zero предыдущий элемент не определён.\n",
    "Значение функции pred завёрнуто в упаковку Maybe, и для того чтобы воспользоваться им нам придётся\n",
    "разворачивать его каждый раз. Как будет выглядеть функция извлечения дважды предыдущего натурального\n",
    "числа:"
   ]
  },
  {
   "cell_type": "code",
   "execution_count": 20,
   "metadata": {},
   "outputs": [],
   "source": [
    "pred2 :: Nat -> Maybe Nat\n",
    "pred2 x =\n",
    "    case pred x of\n",
    "    Just (Succ a) -> Just a\n",
    "    _ -> Nothing"
   ]
  },
  {
   "cell_type": "code",
   "execution_count": 21,
   "metadata": {},
   "outputs": [
    {
     "data": {
      "text/plain": [
       "Nothing"
      ]
     },
     "metadata": {},
     "output_type": "display_data"
    }
   ],
   "source": [
    "pred2 (Succ Zero)"
   ]
  },
  {
   "cell_type": "markdown",
   "metadata": {},
   "source": [
    "http://hackage.haskell.org/package/base-4.14.0.0/docs/Data-Maybe.html экзамплы функций из класса Maybe"
   ]
  },
  {
   "cell_type": "markdown",
   "metadata": {},
   "source": [
    "## Either"
   ]
  },
  {
   "cell_type": "markdown",
   "metadata": {},
   "source": [
    "Рассмотрим ещё один стандартный тип. Он определён в Prelude. Это тип Either (дословно – один из\n",
    "двух). Этот тип принимает два параметра:"
   ]
  },
  {
   "cell_type": "code",
   "execution_count": 5,
   "metadata": {},
   "outputs": [],
   "source": [
    "data Either a b = Left a | Right b\n"
   ]
  },
  {
   "cell_type": "markdown",
   "metadata": {},
   "source": [
    "Значение может быть либо значением типа a, либо значением типа b. Часто этот тип используют как\n",
    "Maybe с информацией об ошибке. Конструктор Left хранит сообщение об ошибке, а конструктор Right\n",
    "значение, если его удалось вычислить."
   ]
  },
  {
   "cell_type": "code",
   "execution_count": 6,
   "metadata": {},
   "outputs": [],
   "source": [
    "headSafe :: [a] -> Either String a\n",
    "headSafe [] = Left \"Empty list\"\n",
    "headSafe (x:_) = Right x"
   ]
  },
  {
   "cell_type": "markdown",
   "metadata": {},
   "source": [
    "http://hackage.haskell.org/package/base-4.14.0.0/docs/Data-Either.html \n",
    "экзамплы функций из класса Either"
   ]
  },
  {
   "cell_type": "markdown",
   "metadata": {},
   "source": [
    "## []"
   ]
  },
  {
   "cell_type": "markdown",
   "metadata": {},
   "source": [
    "Объявим в таком стиле списки:\n"
   ]
  },
  {
   "cell_type": "code",
   "execution_count": null,
   "metadata": {},
   "outputs": [],
   "source": [
    "data [a] where\n",
    "[] :: [a]\n",
    "(:) :: a -> [a] -> [a]"
   ]
  },
  {
   "cell_type": "markdown",
   "metadata": {},
   "source": [
    "Конструктор пустого списка [] является константой, а конструктор объединения элемента со списком\n",
    "(:), является функцией. Типы определяют примитивы и методы составления из примитивов, некоторые конструкторы по сути являются константами, а другие функциями. Эти “методы” определяют базовые значения типа, все другие значения будут комбинациями базовых."
   ]
  },
  {
   "cell_type": "markdown",
   "metadata": {},
   "source": [
    "Функции-накопители при вычислении за ширмой накапливают некоторое значение. Функция-накопитель\n",
    "похожа на функцию с состоянием но без стрелки, по которой состояние подаётся в функцию (рис. 6.10).\n",
    "Функция-накопитель имеет тип: a -> (b, msg)"
   ]
  },
  {
   "cell_type": "markdown",
   "metadata": {},
   "source": [
    "## Writer"
   ]
  },
  {
   "cell_type": "markdown",
   "metadata": {},
   "source": [
    "http://hackage.haskell.org/package/mtl-2.2.2/docs/Control-Monad-Writer-Class.html"
   ]
  },
  {
   "cell_type": "code",
   "execution_count": 52,
   "metadata": {},
   "outputs": [],
   "source": [
    "newtype Writer msg b = Writer (b, msg)"
   ]
  },
  {
   "cell_type": "markdown",
   "metadata": {},
   "source": [
    "Значения типа msg мы будем называть сообщениями. Смысл функций a -> Writer msg b заключается\n",
    "в том, что при вычислении они накапливают в значении msg какую-нибудь информацию. Это могут быть\n",
    "отладочные сообщения. Или база данных, которая открыта для всех функций на запись."
   ]
  },
  {
   "cell_type": "code",
   "execution_count": null,
   "metadata": {},
   "outputs": [],
   "source": [
    "half :: Int -> Writer String Int\n",
    "half x = do\n",
    "        tell (\"I just halved \" ++ (show x) ++ \"!\")\n",
    "        return (x `div` 2)"
   ]
  },
  {
   "cell_type": "markdown",
   "metadata": {},
   "source": [
    "Простой пример логера входных данных, вызвав дважды half увидим"
   ]
  },
  {
   "cell_type": "code",
   "execution_count": null,
   "metadata": {},
   "outputs": [],
   "source": [
    "runWriter $ half 8 >>= half\n",
    "=> (2, \"I just halved 8!I just halved 4!\")"
   ]
  },
  {
   "cell_type": "markdown",
   "metadata": {},
   "source": [
    "## State"
   ]
  },
  {
   "cell_type": "markdown",
   "metadata": {},
   "source": [
    "В Haskell нельзя изменять значения. Новые сложные значения описываются в терминах базовых значений. Но как же тогда мы сможем описать функцию с состоянием? Функцию, которая принимает на вход\n",
    "значение, составляет результат на основе внутреннего состояния и значения аргумента и обновляет состояние. Поскольку мы не можем изменять состояние единственное, что нам остаётся – это принимать значение\n",
    "состояния на вход вместе с аргументом и возвращать обновлённое состояние на выходе. "
   ]
  },
  {
   "cell_type": "markdown",
   "metadata": {},
   "source": [
    "newtype State s a = State (s -> (a, s)) "
   ]
  },
  {
   "cell_type": "code",
   "execution_count": 73,
   "metadata": {},
   "outputs": [],
   "source": [
    "import Control.Monad.State.Lazy"
   ]
  },
  {
   "cell_type": "code",
   "execution_count": null,
   "metadata": {},
   "outputs": [],
   "source": [
    "greeter :: State String String\n",
    "greeter = do\n",
    "    name <- get\n",
    "    put \"newState\"\n",
    "    return (\"hello, \" ++ name ++ \"!\")"
   ]
  },
  {
   "cell_type": "markdown",
   "metadata": {},
   "source": [
    "Функция runState просто извлекает функцию из оболочки State."
   ]
  },
  {
   "cell_type": "code",
   "execution_count": 64,
   "metadata": {},
   "outputs": [
    {
     "data": {
      "text/plain": [
       "(\"hello, currentstate!\",\"newState\")"
      ]
     },
     "metadata": {},
     "output_type": "display_data"
    }
   ],
   "source": [
    "runState greeter \"currentstate\""
   ]
  },
  {
   "cell_type": "code",
   "execution_count": null,
   "metadata": {},
   "outputs": [],
   "source": []
  },
  {
   "cell_type": "code",
   "execution_count": 47,
   "metadata": {},
   "outputs": [],
   "source": [
    "data Nat = Zero | Succ Nat\n",
    "    deriving (Show, Eq, Ord)"
   ]
  }
 ],
 "metadata": {
  "kernelspec": {
   "display_name": "Haskell",
   "language": "haskell",
   "name": "haskell"
  },
  "language_info": {
   "codemirror_mode": "ihaskell",
   "file_extension": ".hs",
   "name": "haskell",
   "pygments_lexer": "Haskell",
   "version": "8.6.5"
  }
 },
 "nbformat": 4,
 "nbformat_minor": 4
}
