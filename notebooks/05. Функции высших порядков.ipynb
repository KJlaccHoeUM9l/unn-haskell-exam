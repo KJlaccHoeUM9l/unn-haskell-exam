{
 "cells": [
  {
   "cell_type": "markdown",
   "metadata": {},
   "source": [
    "# 5. Передача функций, как аргументов и их возвращение, как результатов. Каррирование (currying), сечение инфиксных операторов. Функции map, foldr, foldl и filter, примеры их использования. Бета- и эта-редукции, бесточечная запись."
   ]
  },
  {
   "cell_type": "markdown",
   "metadata": {},
   "source": [
    "## 5.1. Сечение инфиксных операторов.\n",
    "\n",
    "Частичное  применение  операторов  называется  **сечением**.\n",
    "\n",
    "Если какая-нибудь обычная функция  `f`  принимает параметры  `x`  `y`  и  `z`, то ей можно передать только  `x`, или передать только  `x` и  `y`, или передать все параметры сразу  –  но нельзя, например, передать только `y`.\n",
    "\n",
    "А  вот  сечениями  все  проще:  `(^2)`  есть  функция,  возводящая  в  квадрат,  а  `(2^)`  есть  функция, вычисляющая  2  в заданной степени, и отличаются эти функции тем, какой именно из параметров функции возведения в степень  `(^) ::  => Double  -> Integer  -> Double`  мы передаем: первый или второй."
   ]
  },
  {
   "cell_type": "code",
   "execution_count": 14,
   "metadata": {},
   "outputs": [
    {
     "data": {
      "text/html": [
       "<style>/* Styles used for the Hoogle display in the pager */\n",
       ".hoogle-doc {\n",
       "display: block;\n",
       "padding-bottom: 1.3em;\n",
       "padding-left: 0.4em;\n",
       "}\n",
       ".hoogle-code {\n",
       "display: block;\n",
       "font-family: monospace;\n",
       "white-space: pre;\n",
       "}\n",
       ".hoogle-text {\n",
       "display: block;\n",
       "}\n",
       ".hoogle-name {\n",
       "color: green;\n",
       "font-weight: bold;\n",
       "}\n",
       ".hoogle-head {\n",
       "font-weight: bold;\n",
       "}\n",
       ".hoogle-sub {\n",
       "display: block;\n",
       "margin-left: 0.4em;\n",
       "}\n",
       ".hoogle-package {\n",
       "font-weight: bold;\n",
       "font-style: italic;\n",
       "}\n",
       ".hoogle-module {\n",
       "font-weight: bold;\n",
       "}\n",
       ".hoogle-class {\n",
       "font-weight: bold;\n",
       "}\n",
       ".get-type {\n",
       "color: green;\n",
       "font-weight: bold;\n",
       "font-family: monospace;\n",
       "display: block;\n",
       "white-space: pre-wrap;\n",
       "}\n",
       ".show-type {\n",
       "color: green;\n",
       "font-weight: bold;\n",
       "font-family: monospace;\n",
       "margin-left: 1em;\n",
       "}\n",
       ".mono {\n",
       "font-family: monospace;\n",
       "display: block;\n",
       "}\n",
       ".err-msg {\n",
       "color: red;\n",
       "font-style: italic;\n",
       "font-family: monospace;\n",
       "white-space: pre;\n",
       "display: block;\n",
       "}\n",
       "#unshowable {\n",
       "color: red;\n",
       "font-weight: bold;\n",
       "}\n",
       ".err-msg.in.collapse {\n",
       "padding-top: 0.7em;\n",
       "}\n",
       ".highlight-code {\n",
       "white-space: pre;\n",
       "font-family: monospace;\n",
       "}\n",
       ".suggestion-warning { \n",
       "font-weight: bold;\n",
       "color: rgb(200, 130, 0);\n",
       "}\n",
       ".suggestion-error { \n",
       "font-weight: bold;\n",
       "color: red;\n",
       "}\n",
       ".suggestion-name {\n",
       "font-weight: bold;\n",
       "}\n",
       "</style><div class=\"suggestion-name\" style=\"clear:both;\">Eta reduce</div><div class=\"suggestion-row\" style=\"float: left;\"><div class=\"suggestion-warning\">Found:</div><div class=\"highlight-code\" id=\"haskell\">twoToDeg x = (^) 2 x</div></div><div class=\"suggestion-row\" style=\"float: left;\"><div class=\"suggestion-warning\">Why Not:</div><div class=\"highlight-code\" id=\"haskell\">twoToDeg = (^) 2</div></div>"
      ],
      "text/plain": [
       "Line 2: Eta reduce\n",
       "Found:\n",
       "twoToDeg x = (^) 2 x\n",
       "Why not:\n",
       "twoToDeg = (^) 2"
      ]
     },
     "metadata": {},
     "output_type": "display_data"
    }
   ],
   "source": [
    "toSquare x = (^) x 2\n",
    "twoToDeg x = (^) 2 x"
   ]
  },
  {
   "cell_type": "code",
   "execution_count": 15,
   "metadata": {},
   "outputs": [
    {
     "data": {
      "text/plain": [
       "9"
      ]
     },
     "metadata": {},
     "output_type": "display_data"
    }
   ],
   "source": [
    "toSquare 3"
   ]
  },
  {
   "cell_type": "code",
   "execution_count": 16,
   "metadata": {},
   "outputs": [
    {
     "data": {
      "text/plain": [
       "8"
      ]
     },
     "metadata": {},
     "output_type": "display_data"
    }
   ],
   "source": [
    "twoToDeg 3"
   ]
  },
  {
   "cell_type": "markdown",
   "metadata": {},
   "source": [
    "Рассмотрим функцию `(+)`:\n",
    "\n",
    "`(+) :: Num a => a -> a -> a`\n",
    "\n",
    "Что  мы  получаем,  передавая  функции  (+)  только  один  аргумент?\n",
    "\n",
    "Функцию  от  оставшегося  аргумента.  Это  означает,  что  тип  функции  `(+)`  можно  рассматривать  не  только  так,  как  мы \n",
    "написали, но и по-другому:\n",
    "\n",
    "`(+) :: Num a => a -> (a -> a)`\n",
    "\n",
    "В данном случае мы явно выделяем тот факт, что  `(+)`  на самом деле является функцией одного аргумента!  Просто  вызывая  `(+)`  с  двумя  параметрами  мы  не  успеваем  заметить  ту  стадию вычислений, на которой появляется функция одного аргумента. Но на самом деле она есть:\n",
    "\n",
    "`(+) 2 3 -> (2+) 3 -> (2+3) -> 5`"
   ]
  },
  {
   "cell_type": "markdown",
   "metadata": {},
   "source": [
    "## 5.2. Каррирование.\n",
    "\n",
    "На любую функцию вида:\n",
    "\n",
    "`f :: a  -> b  ->  с  ->  d  ->  …  ->  y  ->  z`\n",
    "\n",
    "можно посмотреть, как на функцию:\n",
    "\n",
    "`f :: a -> (b -> (с -> (d -> … -> (y -> z)…)`\n",
    "\n",
    "Это означает,  что  абсолютно  все  функции  в  Haskell  имеют  ровно  один  параметр  (и  один \n",
    "результат, который может быть чем  угодно  –  в том числе и опять функцией). \n",
    "\n",
    "Такие функции (первый вариант) называются  **каррированными**.\n",
    "\n",
    "В случае каррированной функции в Haskell мы обязаны писать `f x y`, и не можем писать `f (x,y)`, потому что функция принимает параметр `x`, а не кортеж `(x,y)`.\n",
    "\n",
    "Для каррирования в Haskell есть специальные функции:\n",
    "\n",
    "```haskell\n",
    "curry :: ((a,b) -> c) -> (a -> b -> c)\n",
    "curry f x y = f (x,y)\n",
    "```\n",
    "\n",
    "```haskell\n",
    "uncurry :: (a -> b -> c) -> ((a,b) -> c)\n",
    "uncurry f p = f (fst p) (snd p)\n",
    "```"
   ]
  },
  {
   "cell_type": "code",
   "execution_count": 17,
   "metadata": {},
   "outputs": [],
   "source": [
    "f x y = (x + 47) * (y + 11) + 13"
   ]
  },
  {
   "cell_type": "code",
   "execution_count": 18,
   "metadata": {},
   "outputs": [
    {
     "data": {
      "text/plain": [
       "1637"
      ]
     },
     "metadata": {},
     "output_type": "display_data"
    }
   ],
   "source": [
    "f 11 17"
   ]
  },
  {
   "cell_type": "code",
   "execution_count": 19,
   "metadata": {},
   "outputs": [],
   "source": [
    "f' = uncurry f"
   ]
  },
  {
   "cell_type": "code",
   "execution_count": 20,
   "metadata": {},
   "outputs": [
    {
     "data": {
      "text/plain": [
       "1637"
      ]
     },
     "metadata": {},
     "output_type": "display_data"
    }
   ],
   "source": [
    "f' (11, 17)"
   ]
  },
  {
   "cell_type": "markdown",
   "metadata": {},
   "source": [
    "## 5.3. Функции высших порядков."
   ]
  },
  {
   "cell_type": "markdown",
   "metadata": {},
   "source": [
    "### 5.3.1. Map.\n",
    "\n",
    "Функция возвращает список, созданный путем применения функции (первый аргумент) ко всем элементам списка, переданным в качестве второго аргумента.\n",
    "\n",
    "Возможное определение:\n",
    "\n",
    "```haskell\n",
    "map :: (a -> b) -> [a] -> [b]\n",
    "map f [] = []\n",
    "map f (x:xs) = (f x) : map f xs\n",
    "```"
   ]
  },
  {
   "cell_type": "code",
   "execution_count": 21,
   "metadata": {},
   "outputs": [
    {
     "data": {
      "text/plain": [
       "[1,3,4,12]"
      ]
     },
     "metadata": {},
     "output_type": "display_data"
    }
   ],
   "source": [
    "list = [-1, -3, 4, -12]\n",
    "\n",
    "map abs list"
   ]
  },
  {
   "cell_type": "markdown",
   "metadata": {},
   "source": [
    "### 5.3.2. Foldr.\n",
    "\n",
    "Функция берет текущее значение аккумулятора (второй аргумент) и последний элемент списка (третий аргумент) и применяет  к этим значениям переданную функцию (первый аргумент), затем он берет предпоследний элемент списка и новое значение аккумулятора и так далее.\n",
    "\n",
    "Если  выписать  все  элементы  списка  и  посмотреть,  как  к  ним  применяется  эта  операция,  то окажется, что результат формируется из вычисления вот такого выражения:\n",
    "\n",
    "$$x_1 f  (x_2 f (x_3 f … (x_N f z)$$\n",
    "\n",
    "На  каждом  шаге  работы  функции  бинарная  функция  f  применяется  к  очередному  элементу  и результату  вызова  той  же  самой  функции  от  хвоста  списка.  Математики  такую  операцию называют сверткой (причем **правой** сверткой). \n",
    "\n",
    "```haskell\n",
    "foldr :: (b -> a -> a) -> a -> [b] -> a\n",
    "foldr f z [] = z\n",
    "foldr f z (x:xs) = f x (foldr f z xs)\n",
    "```"
   ]
  },
  {
   "cell_type": "code",
   "execution_count": 22,
   "metadata": {},
   "outputs": [
    {
     "data": {
      "text/plain": [
       "-7"
      ]
     },
     "metadata": {},
     "output_type": "display_data"
    }
   ],
   "source": [
    "startValue = 5\n",
    "list = [-1, -3, 4, -12]\n",
    "\n",
    "foldr (+) startValue list"
   ]
  },
  {
   "cell_type": "markdown",
   "metadata": {},
   "source": [
    "Промежуточные результаты можно узнать с помощью функции `scanr`:"
   ]
  },
  {
   "cell_type": "code",
   "execution_count": 23,
   "metadata": {},
   "outputs": [
    {
     "data": {
      "text/plain": [
       "[-7,-6,-3,-7,5]"
      ]
     },
     "metadata": {},
     "output_type": "display_data"
    }
   ],
   "source": [
    "scanr (+) startValue list"
   ]
  },
  {
   "cell_type": "markdown",
   "metadata": {},
   "source": [
    "### 5.3.3. Foldl.\n",
    "\n",
    "Функция берет переданное начальное значение (второй аргумент) и первый элемент списка (третий аргумент) и применяет к ним функцию (первый аргумент), затем вычисляет функцию с этим результатом и следующим элементом списка и так далее.\n",
    "\n",
    "`foldl`  тоже  идет  по  списку,  как  и  `map`,  но  в отличие  от  `map`,  `foldl`  имеет  **аккумулятор**,  то  есть  память.\n",
    "\n",
    "$$([] f x_1) f x_2) f x_3) f … f x_N)…)$$\n",
    "\n",
    "```haskell\n",
    "foldl :: (a -> b -> a) -> a -> [b] -> a\n",
    "foldl f z [] = z\n",
    "foldl f z (x:xs) = foldl f (f z x) xs\n",
    "```"
   ]
  },
  {
   "cell_type": "code",
   "execution_count": 24,
   "metadata": {},
   "outputs": [
    {
     "data": {
      "text/plain": [
       "2.0"
      ]
     },
     "metadata": {},
     "output_type": "display_data"
    }
   ],
   "source": [
    "startValue = 64\n",
    "list = [4,2,4]\n",
    "\n",
    "foldl (/) startValue list"
   ]
  },
  {
   "cell_type": "markdown",
   "metadata": {},
   "source": [
    "Промежуточные результаты можно узнать с помощью функции `scanl`:"
   ]
  },
  {
   "cell_type": "code",
   "execution_count": 25,
   "metadata": {},
   "outputs": [
    {
     "data": {
      "text/plain": [
       "[64.0,16.0,8.0,2.0]"
      ]
     },
     "metadata": {},
     "output_type": "display_data"
    }
   ],
   "source": [
    "scanl (/) startValue list"
   ]
  },
  {
   "cell_type": "markdown",
   "metadata": {},
   "source": [
    "### 5.3.4. Filter.\n",
    "\n",
    "Функция возвращает список, составленный из элементов списка (второй аргумент), удовлетворяющих условию, которое задано в виде унарного предиката первым аргументом.\n",
    "\n",
    "```haskell\n",
    "filter f [] = []\n",
    "filter f (x:xs) | f x   = x : filter f xs\n",
    "                | otherwise = filter f xs\n",
    "```"
   ]
  },
  {
   "cell_type": "code",
   "execution_count": 26,
   "metadata": {},
   "outputs": [
    {
     "data": {
      "text/plain": [
       "[6,7,8]"
      ]
     },
     "metadata": {},
     "output_type": "display_data"
    }
   ],
   "source": [
    "list = [1,2,3,4,5,6,7,8]\n",
    "\n",
    "filter (>5) list"
   ]
  },
  {
   "cell_type": "markdown",
   "metadata": {},
   "source": [
    "## 5.4. Бесточечная запись.\n",
    "\n",
    "В общем случае вместо:\n",
    "```haskell\n",
    "f x = expression x\n",
    "```\n",
    "\n",
    "достаточно написать:\n",
    "```haskell\n",
    "f = expression\n",
    "```\n",
    "\n",
    "## 5.5. Редукции.\n",
    "\n",
    "$\\beta$-редукция: терм `(\\x -> M) N` редуцируется (переписывается) к результату подстановки `N` вместо `x` в `M`. Это подстановка фактического параметра вместо формального в тело функции при ее вызове.\n",
    "\n",
    "$\\eta$-редукция: `\\x -> M x` редуцируется к `M`, если `x` не входит свободно в `M`. Действительно, эти два терма ведут себя одинаково, когда выступают в роли функции: `((\\x -> M x) N)` $\\beta$-редуцируется к результату подстановки `N` вместо `x` в `M x`, то есть в `M N` (здесь используется то, что `x` не входит свободно в `M`).\n"
   ]
  },
  {
   "cell_type": "code",
   "execution_count": null,
   "metadata": {},
   "outputs": [],
   "source": []
  }
 ],
 "metadata": {
  "kernelspec": {
   "display_name": "Haskell",
   "language": "haskell",
   "name": "haskell"
  },
  "language_info": {
   "codemirror_mode": "ihaskell",
   "file_extension": ".hs",
   "name": "haskell",
   "pygments_lexer": "Haskell",
   "version": "8.6.5"
  }
 },
 "nbformat": 4,
 "nbformat_minor": 4
}
