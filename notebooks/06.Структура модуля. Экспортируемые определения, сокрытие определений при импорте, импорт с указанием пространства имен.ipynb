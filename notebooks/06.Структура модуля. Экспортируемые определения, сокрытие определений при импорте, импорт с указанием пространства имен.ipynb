{
 "cells": [
  {
   "cell_type": "markdown",
   "metadata": {},
   "source": [
    "## Структура модуля."
   ]
  },
  {
   "cell_type": "markdown",
   "metadata": {},
   "source": [
    "Модуль – это набор определений, хранимых в каком-то файле."
   ]
  },
  {
   "cell_type": "markdown",
   "metadata": {},
   "source": [
    "Например, создадим следующий модуль и сохраним его в файле fact.hs. (Модули Hugs обычно\n",
    "имеют расширение \".hs\", а имя модуля должно совпадать с именем файла и начинаться с\n",
    "прописного символа."
   ]
  },
  {
   "cell_type": "code",
   "execution_count": 7,
   "metadata": {},
   "outputs": [],
   "source": [
    "module Fact(fact) where\n",
    "\n",
    "import Data.Char(isControl)\n",
    "\n",
    "factInner :: Integer -> Integer\n",
    "factInner n = product [1..n]\n",
    "\n",
    "fact :: Integer -> Integer\n",
    "fact = factInner"
   ]
  },
  {
   "cell_type": "markdown",
   "metadata": {},
   "source": [
    "#### Для загрузки модуля в интерпретаторе пишется "
   ]
  },
  {
   "cell_type": "markdown",
   "metadata": {},
   "source": [
    "```haskell\n",
    ":load fact.hs\n",
    "```"
   ]
  },
  {
   "cell_type": "markdown",
   "metadata": {},
   "source": [
    "--------------------------------------\n",
    "-- шапка\n",
    "\n",
    "module Имя(определение1, определение2,..., определениеN) where\n",
    "\n",
    "import Модуль1(...)\n",
    "import Модуль2(...)\n",
    "...\n",
    "\n",
    "---------------------------------------\n",
    "-- определения\n",
    "\n",
    "определение1\n",
    "определение2\n",
    "..."
   ]
  },
  {
   "cell_type": "markdown",
   "metadata": {},
   "source": [
    "---\n",
    "### Импорт"
   ]
  },
  {
   "cell_type": "markdown",
   "metadata": {},
   "source": [
    "В одном модуле можно подключить функциональность из другого модуля. Для этого нужно\n",
    "написать в модуле, например:"
   ]
  },
  {
   "cell_type": "code",
   "execution_count": 3,
   "metadata": {},
   "outputs": [],
   "source": [
    "import Data.Char"
   ]
  },
  {
   "cell_type": "markdown",
   "metadata": {},
   "source": [
    "---\n",
    "### Экспортируемые определения\n",
    "\n",
    "Экспортируемые определения могут быть использованы за пределами модуля, а внутренние – только внутри модуляя"
   ]
  },
  {
   "cell_type": "code",
   "execution_count": null,
   "metadata": {},
   "outputs": [],
   "source": [
    "module Fact(fact) where"
   ]
  },
  {
   "cell_type": "markdown",
   "metadata": {},
   "source": [
    "---\n",
    "## Сокрытие определений при импорте\n",
    "\n",
    "Иногда бывает проще при импорте скрыть некоторые имена, чем перечислять то, что импортируется."
   ]
  },
  {
   "cell_type": "code",
   "execution_count": 9,
   "metadata": {},
   "outputs": [],
   "source": [
    "import Data.Char hiding (isControl)"
   ]
  },
  {
   "cell_type": "markdown",
   "metadata": {},
   "source": [
    "---\n",
    "## Импорт с указанием пространства имен"
   ]
  },
  {
   "cell_type": "code",
   "execution_count": 11,
   "metadata": {},
   "outputs": [],
   "source": [
    "import Data.Char(isControl)"
   ]
  }
 ],
 "metadata": {
  "kernelspec": {
   "display_name": "Haskell",
   "language": "haskell",
   "name": "haskell"
  },
  "language_info": {
   "codemirror_mode": "ihaskell",
   "file_extension": ".hs",
   "name": "haskell",
   "pygments_lexer": "Haskell",
   "version": "8.6.5"
  }
 },
 "nbformat": 4,
 "nbformat_minor": 4
}
